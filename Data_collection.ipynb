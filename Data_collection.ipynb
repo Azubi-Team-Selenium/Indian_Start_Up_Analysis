{
 "cells": [
  {
   "cell_type": "markdown",
   "metadata": {},
   "source": [
    "# Exploring the Indian Startup Ecosystem: A Data Driven Analysis of Funding Trends and Industry Sectors"
   ]
  },
  {
   "cell_type": "markdown",
   "metadata": {},
   "source": [
    "**Project Description**\n",
    "\n",
    "Your team is trying to venture into the Indian start-up ecosystem. As the data experts of the team, you are to investigate the ecosystem  by analyzing funding received by start-ups from 2018 to 2021 and propose the best course of action.\n",
    "\n"
   ]
  },
  {
   "cell_type": "markdown",
   "metadata": {},
   "source": [
    "### **Business Understanding**"
   ]
  },
  {
   "cell_type": "markdown",
   "metadata": {},
   "source": [
    "\n",
    "The Indian Start-up ecosystem - ranked as the third largest in the world is a network of entrepreneurs, investors and other stakeholders working to build and grow technology-driven startups in the country.\n",
    "\n",
    "India has seen an astronomical increase in startups and funding with over 16,000 new companies added in 2020 resulting in an unprecedented growth and funding.\n",
    "\n",
    "Funding is generally provided by investment firms, angel investors, venture capitalists and private equity firms. In the face of market uncertainties, the Indian start-up ecosystem received $8.4 billion in 2023 indicating how resilient the it is."
   ]
  },
  {
   "cell_type": "markdown",
   "metadata": {},
   "source": [
    "\n",
    "\n",
    "### **Data understanding and collection**"
   ]
  },
  {
   "cell_type": "code",
   "execution_count": 1,
   "metadata": {},
   "outputs": [],
   "source": [
    "#Importing all the necessary packages\n",
    "import pyodbc #just installed with pip\n",
    "import os\n",
    "from dotenv import dotenv_values #import the dotenv_values function from the dotenv package\n",
    "import pandas as pd\n",
    "import warnings\n",
    "\n",
    "\n",
    "warnings. filterwarnings('ignore')"
   ]
  },
  {
   "cell_type": "code",
   "execution_count": 2,
   "metadata": {},
   "outputs": [],
   "source": [
    "# Load environment variables from .env file into a dictionary\n",
    "environment_variables = dotenv_values('.env')\n",
    "\n",
    "# Get the values for the credentials you set in the '.env' file\n",
    "database = environment_variables.get(\"DB_NAME\")\n",
    "\n",
    "server = environment_variables.get(\"DB_SERVER\")\n",
    "username = environment_variables.get(\"SQL_DB_LOGIN\")\n",
    "password = environment_variables.get(\"DB_PASS\")\n",
    "\n",
    "connection_string = f\"DRIVER={{SQL Server}} ; SERVER={server}; DATABASE={database}; UID={username} ; PWD={password}\""
   ]
  },
  {
   "cell_type": "code",
   "execution_count": 3,
   "metadata": {},
   "outputs": [],
   "source": [
    "# Use the connect method of the pyodbc library and pass in the connection string.\n",
    "\n",
    "connection = pyodbc.connect( connection_string)\n",
    "\n",
    "# Now the sql query to get the data is what what you see below.\n"
   ]
  },
  {
   "cell_type": "code",
   "execution_count": 4,
   "metadata": {},
   "outputs": [
    {
     "data": {
      "text/html": [
       "<div>\n",
       "<style scoped>\n",
       "    .dataframe tbody tr th:only-of-type {\n",
       "        vertical-align: middle;\n",
       "    }\n",
       "\n",
       "    .dataframe tbody tr th {\n",
       "        vertical-align: top;\n",
       "    }\n",
       "\n",
       "    .dataframe thead th {\n",
       "        text-align: right;\n",
       "    }\n",
       "</style>\n",
       "<table border=\"1\" class=\"dataframe\">\n",
       "  <thead>\n",
       "    <tr style=\"text-align: right;\">\n",
       "      <th></th>\n",
       "      <th>Company_Brand</th>\n",
       "      <th>Founded</th>\n",
       "      <th>HeadQuarter</th>\n",
       "      <th>Sector</th>\n",
       "      <th>What_it_does</th>\n",
       "      <th>Founders</th>\n",
       "      <th>Investor</th>\n",
       "      <th>Amount</th>\n",
       "      <th>Stage</th>\n",
       "      <th>column10</th>\n",
       "    </tr>\n",
       "  </thead>\n",
       "  <tbody>\n",
       "    <tr>\n",
       "      <th>0</th>\n",
       "      <td>Aqgromalin</td>\n",
       "      <td>2019.0</td>\n",
       "      <td>Chennai</td>\n",
       "      <td>AgriTech</td>\n",
       "      <td>Cultivating Ideas for Profit</td>\n",
       "      <td>Prasanna Manogaran, Bharani C L</td>\n",
       "      <td>Angel investors</td>\n",
       "      <td>200000.0</td>\n",
       "      <td>None</td>\n",
       "      <td>None</td>\n",
       "    </tr>\n",
       "    <tr>\n",
       "      <th>1</th>\n",
       "      <td>Krayonnz</td>\n",
       "      <td>2019.0</td>\n",
       "      <td>Bangalore</td>\n",
       "      <td>EdTech</td>\n",
       "      <td>An academy-guardian-scholar centric ecosystem ...</td>\n",
       "      <td>Saurabh Dixit, Gurudutt Upadhyay</td>\n",
       "      <td>GSF Accelerator</td>\n",
       "      <td>100000.0</td>\n",
       "      <td>Pre-seed</td>\n",
       "      <td>None</td>\n",
       "    </tr>\n",
       "  </tbody>\n",
       "</table>\n",
       "</div>"
      ],
      "text/plain": [
       "  Company_Brand  Founded HeadQuarter    Sector  \\\n",
       "0    Aqgromalin   2019.0     Chennai  AgriTech   \n",
       "1      Krayonnz   2019.0   Bangalore    EdTech   \n",
       "\n",
       "                                        What_it_does  \\\n",
       "0                       Cultivating Ideas for Profit   \n",
       "1  An academy-guardian-scholar centric ecosystem ...   \n",
       "\n",
       "                           Founders         Investor    Amount     Stage  \\\n",
       "0   Prasanna Manogaran, Bharani C L  Angel investors  200000.0      None   \n",
       "1  Saurabh Dixit, Gurudutt Upadhyay  GSF Accelerator  100000.0  Pre-seed   \n",
       "\n",
       "  column10  \n",
       "0     None  \n",
       "1     None  "
      ]
     },
     "execution_count": 4,
     "metadata": {},
     "output_type": "execute_result"
    }
   ],
   "source": [
    "#Querying the database to retrieve all relevant files from table 1\n",
    "query1 = \"SELECT * FROM dbo.LP1_startup_funding2020\"\n",
    "df_2020 = pd.read_sql(query1, connection)\n",
    "df_2020.head(2)"
   ]
  },
  {
   "cell_type": "code",
   "execution_count": 5,
   "metadata": {},
   "outputs": [
    {
     "data": {
      "text/html": [
       "<div>\n",
       "<style scoped>\n",
       "    .dataframe tbody tr th:only-of-type {\n",
       "        vertical-align: middle;\n",
       "    }\n",
       "\n",
       "    .dataframe tbody tr th {\n",
       "        vertical-align: top;\n",
       "    }\n",
       "\n",
       "    .dataframe thead th {\n",
       "        text-align: right;\n",
       "    }\n",
       "</style>\n",
       "<table border=\"1\" class=\"dataframe\">\n",
       "  <thead>\n",
       "    <tr style=\"text-align: right;\">\n",
       "      <th></th>\n",
       "      <th>Company_Brand</th>\n",
       "      <th>Founded</th>\n",
       "      <th>HeadQuarter</th>\n",
       "      <th>Sector</th>\n",
       "      <th>What_it_does</th>\n",
       "      <th>Founders</th>\n",
       "      <th>Investor</th>\n",
       "      <th>Amount</th>\n",
       "      <th>Stage</th>\n",
       "    </tr>\n",
       "  </thead>\n",
       "  <tbody>\n",
       "    <tr>\n",
       "      <th>0</th>\n",
       "      <td>Unbox Robotics</td>\n",
       "      <td>2019.0</td>\n",
       "      <td>Bangalore</td>\n",
       "      <td>AI startup</td>\n",
       "      <td>Unbox Robotics builds on-demand AI-driven ware...</td>\n",
       "      <td>Pramod Ghadge, Shahid Memon</td>\n",
       "      <td>BEENEXT, Entrepreneur First</td>\n",
       "      <td>$1,200,000</td>\n",
       "      <td>Pre-series A</td>\n",
       "    </tr>\n",
       "    <tr>\n",
       "      <th>1</th>\n",
       "      <td>upGrad</td>\n",
       "      <td>2015.0</td>\n",
       "      <td>Mumbai</td>\n",
       "      <td>EdTech</td>\n",
       "      <td>UpGrad is an online higher education platform.</td>\n",
       "      <td>Mayank Kumar, Phalgun Kompalli, Ravijot Chugh,...</td>\n",
       "      <td>Unilazer Ventures, IIFL Asset Management</td>\n",
       "      <td>$120,000,000</td>\n",
       "      <td>None</td>\n",
       "    </tr>\n",
       "  </tbody>\n",
       "</table>\n",
       "</div>"
      ],
      "text/plain": [
       "    Company_Brand  Founded HeadQuarter      Sector  \\\n",
       "0  Unbox Robotics   2019.0   Bangalore  AI startup   \n",
       "1          upGrad   2015.0      Mumbai      EdTech   \n",
       "\n",
       "                                        What_it_does  \\\n",
       "0  Unbox Robotics builds on-demand AI-driven ware...   \n",
       "1     UpGrad is an online higher education platform.   \n",
       "\n",
       "                                            Founders  \\\n",
       "0                        Pramod Ghadge, Shahid Memon   \n",
       "1  Mayank Kumar, Phalgun Kompalli, Ravijot Chugh,...   \n",
       "\n",
       "                                   Investor        Amount         Stage  \n",
       "0               BEENEXT, Entrepreneur First    $1,200,000  Pre-series A  \n",
       "1  Unilazer Ventures, IIFL Asset Management  $120,000,000          None  "
      ]
     },
     "execution_count": 5,
     "metadata": {},
     "output_type": "execute_result"
    }
   ],
   "source": [
    "#Querying the database to retrieve all relevant files from table 2\n",
    "query2 = \"SELECT * FROM dbo.LP1_startup_funding2021\"\n",
    "\n",
    "df_2021 = pd.read_sql(query2, connection)\n",
    "df_2021.head(2)"
   ]
  },
  {
   "cell_type": "code",
   "execution_count": 6,
   "metadata": {},
   "outputs": [
    {
     "data": {
      "text/html": [
       "<div>\n",
       "<style scoped>\n",
       "    .dataframe tbody tr th:only-of-type {\n",
       "        vertical-align: middle;\n",
       "    }\n",
       "\n",
       "    .dataframe tbody tr th {\n",
       "        vertical-align: top;\n",
       "    }\n",
       "\n",
       "    .dataframe thead th {\n",
       "        text-align: right;\n",
       "    }\n",
       "</style>\n",
       "<table border=\"1\" class=\"dataframe\">\n",
       "  <thead>\n",
       "    <tr style=\"text-align: right;\">\n",
       "      <th></th>\n",
       "      <th>company_brand</th>\n",
       "      <th>founded</th>\n",
       "      <th>headquarter</th>\n",
       "      <th>sector</th>\n",
       "      <th>what_it_does</th>\n",
       "      <th>founders</th>\n",
       "      <th>investor</th>\n",
       "      <th>amount</th>\n",
       "      <th>stage</th>\n",
       "      <th>column10</th>\n",
       "    </tr>\n",
       "  </thead>\n",
       "  <tbody>\n",
       "    <tr>\n",
       "      <th>0</th>\n",
       "      <td>Aqgromalin</td>\n",
       "      <td>2019.0</td>\n",
       "      <td>Chennai</td>\n",
       "      <td>AgriTech</td>\n",
       "      <td>Cultivating Ideas for Profit</td>\n",
       "      <td>Prasanna Manogaran, Bharani C L</td>\n",
       "      <td>Angel investors</td>\n",
       "      <td>200000.0</td>\n",
       "      <td>None</td>\n",
       "      <td>None</td>\n",
       "    </tr>\n",
       "    <tr>\n",
       "      <th>1</th>\n",
       "      <td>Krayonnz</td>\n",
       "      <td>2019.0</td>\n",
       "      <td>Bangalore</td>\n",
       "      <td>EdTech</td>\n",
       "      <td>An academy-guardian-scholar centric ecosystem ...</td>\n",
       "      <td>Saurabh Dixit, Gurudutt Upadhyay</td>\n",
       "      <td>GSF Accelerator</td>\n",
       "      <td>100000.0</td>\n",
       "      <td>Pre-seed</td>\n",
       "      <td>None</td>\n",
       "    </tr>\n",
       "  </tbody>\n",
       "</table>\n",
       "</div>"
      ],
      "text/plain": [
       "  company_brand  founded headquarter    sector  \\\n",
       "0    Aqgromalin   2019.0     Chennai  AgriTech   \n",
       "1      Krayonnz   2019.0   Bangalore    EdTech   \n",
       "\n",
       "                                        what_it_does  \\\n",
       "0                       Cultivating Ideas for Profit   \n",
       "1  An academy-guardian-scholar centric ecosystem ...   \n",
       "\n",
       "                           founders         investor    amount     stage  \\\n",
       "0   Prasanna Manogaran, Bharani C L  Angel investors  200000.0      None   \n",
       "1  Saurabh Dixit, Gurudutt Upadhyay  GSF Accelerator  100000.0  Pre-seed   \n",
       "\n",
       "  column10  \n",
       "0     None  \n",
       "1     None  "
      ]
     },
     "execution_count": 6,
     "metadata": {},
     "output_type": "execute_result"
    }
   ],
   "source": [
    "# Renaming columns to lowercase with underscores\n",
    "df_2020= df_2020.rename(columns=lambda x: x.lower().replace(' ', '_'))\n",
    "df_2020.head(2)"
   ]
  },
  {
   "cell_type": "code",
   "execution_count": 7,
   "metadata": {},
   "outputs": [
    {
     "name": "stdout",
     "output_type": "stream",
     "text": [
      "<class 'pandas.core.frame.DataFrame'>\n",
      "RangeIndex: 1055 entries, 0 to 1054\n",
      "Data columns (total 10 columns):\n",
      " #   Column         Non-Null Count  Dtype  \n",
      "---  ------         --------------  -----  \n",
      " 0   company_brand  1055 non-null   object \n",
      " 1   founded        842 non-null    float64\n",
      " 2   headquarter    961 non-null    object \n",
      " 3   sector         1042 non-null   object \n",
      " 4   what_it_does   1055 non-null   object \n",
      " 5   founders       1043 non-null   object \n",
      " 6   investor       1017 non-null   object \n",
      " 7   amount         801 non-null    float64\n",
      " 8   stage          591 non-null    object \n",
      " 9   column10       2 non-null      object \n",
      "dtypes: float64(2), object(8)\n",
      "memory usage: 82.6+ KB\n"
     ]
    }
   ],
   "source": [
    "#performing high level enquiries on the data\n",
    "df_2020.info()"
   ]
  },
  {
   "cell_type": "markdown",
   "metadata": {},
   "source": [
    "From the observations, there are strings and numbers in the dataset. There are 10 columns in the 2020_dataset with nulls in almost all of them."
   ]
  },
  {
   "cell_type": "code",
   "execution_count": 8,
   "metadata": {},
   "outputs": [
    {
     "data": {
      "text/html": [
       "<div>\n",
       "<style scoped>\n",
       "    .dataframe tbody tr th:only-of-type {\n",
       "        vertical-align: middle;\n",
       "    }\n",
       "\n",
       "    .dataframe tbody tr th {\n",
       "        vertical-align: top;\n",
       "    }\n",
       "\n",
       "    .dataframe thead th {\n",
       "        text-align: right;\n",
       "    }\n",
       "</style>\n",
       "<table border=\"1\" class=\"dataframe\">\n",
       "  <thead>\n",
       "    <tr style=\"text-align: right;\">\n",
       "      <th></th>\n",
       "      <th>company_brand</th>\n",
       "      <th>founded</th>\n",
       "      <th>headquarter</th>\n",
       "      <th>sector</th>\n",
       "      <th>what_it_does</th>\n",
       "      <th>founders</th>\n",
       "      <th>investor</th>\n",
       "      <th>amount</th>\n",
       "      <th>stage</th>\n",
       "    </tr>\n",
       "  </thead>\n",
       "  <tbody>\n",
       "    <tr>\n",
       "      <th>0</th>\n",
       "      <td>Unbox Robotics</td>\n",
       "      <td>2019.0</td>\n",
       "      <td>Bangalore</td>\n",
       "      <td>AI startup</td>\n",
       "      <td>Unbox Robotics builds on-demand AI-driven ware...</td>\n",
       "      <td>Pramod Ghadge, Shahid Memon</td>\n",
       "      <td>BEENEXT, Entrepreneur First</td>\n",
       "      <td>$1,200,000</td>\n",
       "      <td>Pre-series A</td>\n",
       "    </tr>\n",
       "    <tr>\n",
       "      <th>1</th>\n",
       "      <td>upGrad</td>\n",
       "      <td>2015.0</td>\n",
       "      <td>Mumbai</td>\n",
       "      <td>EdTech</td>\n",
       "      <td>UpGrad is an online higher education platform.</td>\n",
       "      <td>Mayank Kumar, Phalgun Kompalli, Ravijot Chugh,...</td>\n",
       "      <td>Unilazer Ventures, IIFL Asset Management</td>\n",
       "      <td>$120,000,000</td>\n",
       "      <td>None</td>\n",
       "    </tr>\n",
       "  </tbody>\n",
       "</table>\n",
       "</div>"
      ],
      "text/plain": [
       "    company_brand  founded headquarter      sector  \\\n",
       "0  Unbox Robotics   2019.0   Bangalore  AI startup   \n",
       "1          upGrad   2015.0      Mumbai      EdTech   \n",
       "\n",
       "                                        what_it_does  \\\n",
       "0  Unbox Robotics builds on-demand AI-driven ware...   \n",
       "1     UpGrad is an online higher education platform.   \n",
       "\n",
       "                                            founders  \\\n",
       "0                        Pramod Ghadge, Shahid Memon   \n",
       "1  Mayank Kumar, Phalgun Kompalli, Ravijot Chugh,...   \n",
       "\n",
       "                                   investor        amount         stage  \n",
       "0               BEENEXT, Entrepreneur First    $1,200,000  Pre-series A  \n",
       "1  Unilazer Ventures, IIFL Asset Management  $120,000,000          None  "
      ]
     },
     "execution_count": 8,
     "metadata": {},
     "output_type": "execute_result"
    }
   ],
   "source": [
    "# Rename columns to lowercase with underscores\n",
    "df_2021= df_2021.rename(columns=lambda x: x.lower().replace(' ', '_'))\n",
    "df_2021.head(2)"
   ]
  },
  {
   "cell_type": "code",
   "execution_count": 9,
   "metadata": {},
   "outputs": [
    {
     "name": "stdout",
     "output_type": "stream",
     "text": [
      "<class 'pandas.core.frame.DataFrame'>\n",
      "RangeIndex: 1209 entries, 0 to 1208\n",
      "Data columns (total 9 columns):\n",
      " #   Column         Non-Null Count  Dtype  \n",
      "---  ------         --------------  -----  \n",
      " 0   company_brand  1209 non-null   object \n",
      " 1   founded        1208 non-null   float64\n",
      " 2   headquarter    1208 non-null   object \n",
      " 3   sector         1209 non-null   object \n",
      " 4   what_it_does   1209 non-null   object \n",
      " 5   founders       1205 non-null   object \n",
      " 6   investor       1147 non-null   object \n",
      " 7   amount         1206 non-null   object \n",
      " 8   stage          781 non-null    object \n",
      "dtypes: float64(1), object(8)\n",
      "memory usage: 85.1+ KB\n"
     ]
    }
   ],
   "source": [
    "#performing high level enquiries on the second dataset\n",
    "df_2021.info()"
   ]
  },
  {
   "cell_type": "code",
   "execution_count": 10,
   "metadata": {},
   "outputs": [
    {
     "name": "stdout",
     "output_type": "stream",
     "text": [
      "['$1,200,000', '$120,000,000', '$30,000,000', '$51,000,000', '$2,000,000', '$188,000,000', '$200,000', 'Undisclosed', '$1,000,000', '$3,000,000', '$100,000', '$700,000', '$9,000,000', '$40,000,000', '$49,000,000', '$400,000', '$300,000', '$25,000,000', '$160,000,000', '$150,000', '$1,800,000', '$5,000,000', '$850,000', '$53,000,000', '$500,000', '$1,100,000', '$6,000,000', '$800,000', '$10,000,000', '$21,000,000', '$7,500,000', '$26,000,000', '$7,400,000', '$1,500,000', '$600,000', '$800,000,000', '$17,000,000', '$3,500,000', '$15,000,000', '$215,000,000', '$2,500,000', '$350,000,000', '$5,500,000', '$83,000,000', '$110,000,000', '$500,000,000', '$65,000,000', '$150,000,000,000', '$300,000,000', '$2,200,000', '$35,000,000', '$140,000,000', '$4,000,000', '$13,000,000', None, '$Undisclosed', '$2000000', '$800000', '$6000000', '$2500000', '$9500000', '$13000000', '$5000000', '$8000000', '$1000000', 'Upsparks', '$200000', '$12000000', '$1500000', '$1700000', '$5500000', '$400000', '$150000000', '$4000000', '$100000000', '$500000', '$15000000', '$10000000', '$40000000', '$225000000', '$6700000', '$1300000', '$20000000', '$250000', '$21000000', '$1200000', '$52000000', '$3800000', '$17500000', '$42000000', '$2300000', '$7000000', '$30000000', '$450000000', '$28000000', '$300000', '$3500000', '$8500000', '$25000000', '$3000000', '$37000000', '$370000000', '$700000', '$16000000', '$100000', '$44000000', '$770000', '$125000000', '$35000000', '$50000000', '$4900000', '$145000000', '$22000000', '$70000000', '$6600000', '$32000000', '$24000000', '$725000', '$461000', 'Series C', 'Seed', '$96000000', '$60000000', '$500000000', '$266000000', '$4500000', '$325000000', '$6500000', '$1600000', '$150000', '$225000', '$85000000', '$235000', '$260000', '$2900000', '$53000000', '$1100000', '$86000000', '$130000', '$$100,00', '$111000000', '$265000', '$76000000', '$100,000,000', '$75,000,000', '$3,800,000', '$12,000,000', '$1,600,000', '$260,000', '$1,000,000,000', '$18,000,000', '$20,000,000', '$350,000', '$95,000,000', '$4,100,000', '$5,200,000', '$8,000,000', '$1,400,000', '$2,600,000', '$900,000', '$250,000', '$16,000,000', '$7,000,000', '$11,000,000', '$280,000,000', '$50,000,000', '$14,300,000', '$81,000,000', '$1,300,000', '$8,200,000', '$70,000,000', '$720,000', '$600000', '$9000000', '$1800000', '$330000', '$undisclosed', '$200000000', '$36000000', '$67000000', '$10200000', '$220000000', '$108000000', '$75000000', '$450000', '$660000000', 'ah! Ventures', '$45000000', '$3200000', '$370000', 'Pre-series A', 'ITO Angel Network, LetsVenture', '$48000000', '$3600000', '$11000000', '$192000000', '$65000000', '$1400000', '$1900000', '$41000000', '$144000000', '$5200000', '$270000000', '$140000', '$250000000', '$320000', '$350000000', '$4800000', '$38000000', '$125000', '$26000000', '$64000000', '$620000', '$900000', 'JITO Angel Network, LetsVenture', '$2600000', '$1,250,000', '$400,000,000', '$1,700,000', '$27,000,000', '$234,000,000', '$460,000,000', '$13,500,000', '$5,100,000', '$195,000,000', '$125,000', '$45,000,000', '$200,000,000', '$7,300,000', '$6,300,000', '$12,500,000', '$24,000,000', '$140,000', '$16,500,000', '$340,000', '$43,000,000', '$150,000,000', '$3300000', '$92000000', '$17000000', '$135000000', '$$1,55,000', '$2100000', '$840000000', '$248000000', '$4300000', '$570000', '$2200000', '$4700000', '$300000000', '$260000000', '$140000000', '$175000000', '$19000000', '$810000', '$7500000', '$600000000', '$90000000', '$5700000', '$6750000', '$78000000', '$5400000', '$115000000', '$255000000', '$18000000', '$570000000', '$550000', '$2700000', '$4200000', '$31000000', '$540000', '$14000000', '$340000', '$', '$6200000', '$750000', '$6300000', '$23000000', '$55000000']\n"
     ]
    }
   ],
   "source": [
    "#checking for any unique values and inconsistencies in amount column\n",
    "print(df_2021.amount.unique().tolist())"
   ]
  },
  {
   "cell_type": "code",
   "execution_count": 11,
   "metadata": {},
   "outputs": [
    {
     "data": {
      "text/html": [
       "<div>\n",
       "<style scoped>\n",
       "    .dataframe tbody tr th:only-of-type {\n",
       "        vertical-align: middle;\n",
       "    }\n",
       "\n",
       "    .dataframe tbody tr th {\n",
       "        vertical-align: top;\n",
       "    }\n",
       "\n",
       "    .dataframe thead th {\n",
       "        text-align: right;\n",
       "    }\n",
       "</style>\n",
       "<table border=\"1\" class=\"dataframe\">\n",
       "  <thead>\n",
       "    <tr style=\"text-align: right;\">\n",
       "      <th></th>\n",
       "      <th>count</th>\n",
       "      <th>unique</th>\n",
       "      <th>top</th>\n",
       "      <th>freq</th>\n",
       "      <th>mean</th>\n",
       "      <th>std</th>\n",
       "      <th>min</th>\n",
       "      <th>25%</th>\n",
       "      <th>50%</th>\n",
       "      <th>75%</th>\n",
       "      <th>max</th>\n",
       "    </tr>\n",
       "  </thead>\n",
       "  <tbody>\n",
       "    <tr>\n",
       "      <th>company_brand</th>\n",
       "      <td>1209</td>\n",
       "      <td>1033</td>\n",
       "      <td>BharatPe</td>\n",
       "      <td>8</td>\n",
       "      <td>NaN</td>\n",
       "      <td>NaN</td>\n",
       "      <td>NaN</td>\n",
       "      <td>NaN</td>\n",
       "      <td>NaN</td>\n",
       "      <td>NaN</td>\n",
       "      <td>NaN</td>\n",
       "    </tr>\n",
       "    <tr>\n",
       "      <th>founded</th>\n",
       "      <td>1208.0</td>\n",
       "      <td>NaN</td>\n",
       "      <td>NaN</td>\n",
       "      <td>NaN</td>\n",
       "      <td>2016.655629</td>\n",
       "      <td>4.517364</td>\n",
       "      <td>1963.0</td>\n",
       "      <td>2015.0</td>\n",
       "      <td>2018.0</td>\n",
       "      <td>2020.0</td>\n",
       "      <td>2021.0</td>\n",
       "    </tr>\n",
       "    <tr>\n",
       "      <th>headquarter</th>\n",
       "      <td>1208</td>\n",
       "      <td>70</td>\n",
       "      <td>Bangalore</td>\n",
       "      <td>426</td>\n",
       "      <td>NaN</td>\n",
       "      <td>NaN</td>\n",
       "      <td>NaN</td>\n",
       "      <td>NaN</td>\n",
       "      <td>NaN</td>\n",
       "      <td>NaN</td>\n",
       "      <td>NaN</td>\n",
       "    </tr>\n",
       "    <tr>\n",
       "      <th>sector</th>\n",
       "      <td>1209</td>\n",
       "      <td>254</td>\n",
       "      <td>FinTech</td>\n",
       "      <td>122</td>\n",
       "      <td>NaN</td>\n",
       "      <td>NaN</td>\n",
       "      <td>NaN</td>\n",
       "      <td>NaN</td>\n",
       "      <td>NaN</td>\n",
       "      <td>NaN</td>\n",
       "      <td>NaN</td>\n",
       "    </tr>\n",
       "    <tr>\n",
       "      <th>what_it_does</th>\n",
       "      <td>1209</td>\n",
       "      <td>1143</td>\n",
       "      <td>BharatPe develops a QR code-based payment app ...</td>\n",
       "      <td>4</td>\n",
       "      <td>NaN</td>\n",
       "      <td>NaN</td>\n",
       "      <td>NaN</td>\n",
       "      <td>NaN</td>\n",
       "      <td>NaN</td>\n",
       "      <td>NaN</td>\n",
       "      <td>NaN</td>\n",
       "    </tr>\n",
       "    <tr>\n",
       "      <th>founders</th>\n",
       "      <td>1205</td>\n",
       "      <td>1095</td>\n",
       "      <td>Ashneer Grover, Shashvat Nakrani</td>\n",
       "      <td>7</td>\n",
       "      <td>NaN</td>\n",
       "      <td>NaN</td>\n",
       "      <td>NaN</td>\n",
       "      <td>NaN</td>\n",
       "      <td>NaN</td>\n",
       "      <td>NaN</td>\n",
       "      <td>NaN</td>\n",
       "    </tr>\n",
       "    <tr>\n",
       "      <th>investor</th>\n",
       "      <td>1147</td>\n",
       "      <td>937</td>\n",
       "      <td>Inflection Point Ventures</td>\n",
       "      <td>24</td>\n",
       "      <td>NaN</td>\n",
       "      <td>NaN</td>\n",
       "      <td>NaN</td>\n",
       "      <td>NaN</td>\n",
       "      <td>NaN</td>\n",
       "      <td>NaN</td>\n",
       "      <td>NaN</td>\n",
       "    </tr>\n",
       "    <tr>\n",
       "      <th>amount</th>\n",
       "      <td>1206</td>\n",
       "      <td>278</td>\n",
       "      <td>$Undisclosed</td>\n",
       "      <td>73</td>\n",
       "      <td>NaN</td>\n",
       "      <td>NaN</td>\n",
       "      <td>NaN</td>\n",
       "      <td>NaN</td>\n",
       "      <td>NaN</td>\n",
       "      <td>NaN</td>\n",
       "      <td>NaN</td>\n",
       "    </tr>\n",
       "    <tr>\n",
       "      <th>stage</th>\n",
       "      <td>781</td>\n",
       "      <td>31</td>\n",
       "      <td>Seed</td>\n",
       "      <td>246</td>\n",
       "      <td>NaN</td>\n",
       "      <td>NaN</td>\n",
       "      <td>NaN</td>\n",
       "      <td>NaN</td>\n",
       "      <td>NaN</td>\n",
       "      <td>NaN</td>\n",
       "      <td>NaN</td>\n",
       "    </tr>\n",
       "  </tbody>\n",
       "</table>\n",
       "</div>"
      ],
      "text/plain": [
       "                count unique  \\\n",
       "company_brand    1209   1033   \n",
       "founded        1208.0    NaN   \n",
       "headquarter      1208     70   \n",
       "sector           1209    254   \n",
       "what_it_does     1209   1143   \n",
       "founders         1205   1095   \n",
       "investor         1147    937   \n",
       "amount           1206    278   \n",
       "stage             781     31   \n",
       "\n",
       "                                                             top freq  \\\n",
       "company_brand                                           BharatPe    8   \n",
       "founded                                                      NaN  NaN   \n",
       "headquarter                                            Bangalore  426   \n",
       "sector                                                   FinTech  122   \n",
       "what_it_does   BharatPe develops a QR code-based payment app ...    4   \n",
       "founders                        Ashneer Grover, Shashvat Nakrani    7   \n",
       "investor                               Inflection Point Ventures   24   \n",
       "amount                                              $Undisclosed   73   \n",
       "stage                                                       Seed  246   \n",
       "\n",
       "                      mean       std     min     25%     50%     75%     max  \n",
       "company_brand          NaN       NaN     NaN     NaN     NaN     NaN     NaN  \n",
       "founded        2016.655629  4.517364  1963.0  2015.0  2018.0  2020.0  2021.0  \n",
       "headquarter            NaN       NaN     NaN     NaN     NaN     NaN     NaN  \n",
       "sector                 NaN       NaN     NaN     NaN     NaN     NaN     NaN  \n",
       "what_it_does           NaN       NaN     NaN     NaN     NaN     NaN     NaN  \n",
       "founders               NaN       NaN     NaN     NaN     NaN     NaN     NaN  \n",
       "investor               NaN       NaN     NaN     NaN     NaN     NaN     NaN  \n",
       "amount                 NaN       NaN     NaN     NaN     NaN     NaN     NaN  \n",
       "stage                  NaN       NaN     NaN     NaN     NaN     NaN     NaN  "
      ]
     },
     "execution_count": 11,
     "metadata": {},
     "output_type": "execute_result"
    }
   ],
   "source": [
    "df_2021.describe(include=\"all\").T"
   ]
  },
  {
   "cell_type": "markdown",
   "metadata": {},
   "source": [
    "From the observations, there are strings and numbers in the dataset. There are 9 columns in the 2021_dataset with nulls in almost all of them."
   ]
  },
  {
   "cell_type": "code",
   "execution_count": 12,
   "metadata": {},
   "outputs": [
    {
     "data": {
      "text/html": [
       "<div>\n",
       "<style scoped>\n",
       "    .dataframe tbody tr th:only-of-type {\n",
       "        vertical-align: middle;\n",
       "    }\n",
       "\n",
       "    .dataframe tbody tr th {\n",
       "        vertical-align: top;\n",
       "    }\n",
       "\n",
       "    .dataframe thead th {\n",
       "        text-align: right;\n",
       "    }\n",
       "</style>\n",
       "<table border=\"1\" class=\"dataframe\">\n",
       "  <thead>\n",
       "    <tr style=\"text-align: right;\">\n",
       "      <th></th>\n",
       "      <th>company/brand</th>\n",
       "      <th>founded</th>\n",
       "      <th>headquarter</th>\n",
       "      <th>sector</th>\n",
       "      <th>what_it_does</th>\n",
       "      <th>founders</th>\n",
       "      <th>investor</th>\n",
       "      <th>amount($)</th>\n",
       "      <th>stage</th>\n",
       "    </tr>\n",
       "  </thead>\n",
       "  <tbody>\n",
       "    <tr>\n",
       "      <th>0</th>\n",
       "      <td>Bombay Shaving</td>\n",
       "      <td>NaN</td>\n",
       "      <td>NaN</td>\n",
       "      <td>Ecommerce</td>\n",
       "      <td>Provides a range of male grooming products</td>\n",
       "      <td>Shantanu Deshpande</td>\n",
       "      <td>Sixth Sense Ventures</td>\n",
       "      <td>$6,300,000</td>\n",
       "      <td>NaN</td>\n",
       "    </tr>\n",
       "    <tr>\n",
       "      <th>1</th>\n",
       "      <td>Ruangguru</td>\n",
       "      <td>2014.0</td>\n",
       "      <td>Mumbai</td>\n",
       "      <td>Edtech</td>\n",
       "      <td>A learning platform that provides topic-based ...</td>\n",
       "      <td>Adamas Belva Syah Devara, Iman Usman.</td>\n",
       "      <td>General Atlantic</td>\n",
       "      <td>$150,000,000</td>\n",
       "      <td>Series C</td>\n",
       "    </tr>\n",
       "  </tbody>\n",
       "</table>\n",
       "</div>"
      ],
      "text/plain": [
       "    company/brand  founded headquarter     sector  \\\n",
       "0  Bombay Shaving      NaN         NaN  Ecommerce   \n",
       "1       Ruangguru   2014.0      Mumbai     Edtech   \n",
       "\n",
       "                                        what_it_does  \\\n",
       "0         Provides a range of male grooming products   \n",
       "1  A learning platform that provides topic-based ...   \n",
       "\n",
       "                                founders              investor     amount($)  \\\n",
       "0                     Shantanu Deshpande  Sixth Sense Ventures    $6,300,000   \n",
       "1  Adamas Belva Syah Devara, Iman Usman.      General Atlantic  $150,000,000   \n",
       "\n",
       "      stage  \n",
       "0       NaN  \n",
       "1  Series C  "
      ]
     },
     "execution_count": 12,
     "metadata": {},
     "output_type": "execute_result"
    }
   ],
   "source": [
    "#reading third dataset from csv file into a pandas dataframe\n",
    "df_2019 = pd.read_csv(\"startup_funding2019.csv\")\n",
    "\n",
    "# Rename columns to lowercase with underscores\n",
    "df_2019= df_2019.rename(columns=lambda x: x.lower().replace(' ', '_'))\n",
    "df_2019.head(2)"
   ]
  },
  {
   "cell_type": "code",
   "execution_count": 13,
   "metadata": {},
   "outputs": [],
   "source": [
    "#removing symbols from columns to make later concatenation uniform\n",
    "df_2019 = df_2019.rename(columns={\"company/brand\":\"company_brand\", \"amount($)\":\"amount\"})"
   ]
  },
  {
   "cell_type": "code",
   "execution_count": 14,
   "metadata": {},
   "outputs": [
    {
     "name": "stdout",
     "output_type": "stream",
     "text": [
      "<class 'pandas.core.frame.DataFrame'>\n",
      "RangeIndex: 89 entries, 0 to 88\n",
      "Data columns (total 9 columns):\n",
      " #   Column         Non-Null Count  Dtype  \n",
      "---  ------         --------------  -----  \n",
      " 0   company_brand  89 non-null     object \n",
      " 1   founded        60 non-null     float64\n",
      " 2   headquarter    70 non-null     object \n",
      " 3   sector         84 non-null     object \n",
      " 4   what_it_does   89 non-null     object \n",
      " 5   founders       86 non-null     object \n",
      " 6   investor       89 non-null     object \n",
      " 7   amount         89 non-null     object \n",
      " 8   stage          43 non-null     object \n",
      "dtypes: float64(1), object(8)\n",
      "memory usage: 6.4+ KB\n"
     ]
    }
   ],
   "source": [
    "#requesting info of 2019 dataset\n",
    "df_2019.info()"
   ]
  },
  {
   "cell_type": "code",
   "execution_count": 15,
   "metadata": {},
   "outputs": [
    {
     "name": "stdout",
     "output_type": "stream",
     "text": [
      "['$1,200,000', '$120,000,000', '$30,000,000', '$51,000,000', '$2,000,000', '$188,000,000', '$200,000', 'Undisclosed', '$1,000,000', '$3,000,000', '$100,000', '$700,000', '$9,000,000', '$40,000,000', '$49,000,000', '$400,000', '$300,000', '$25,000,000', '$160,000,000', '$150,000', '$1,800,000', '$5,000,000', '$850,000', '$53,000,000', '$500,000', '$1,100,000', '$6,000,000', '$800,000', '$10,000,000', '$21,000,000', '$7,500,000', '$26,000,000', '$7,400,000', '$1,500,000', '$600,000', '$800,000,000', '$17,000,000', '$3,500,000', '$15,000,000', '$215,000,000', '$2,500,000', '$350,000,000', '$5,500,000', '$83,000,000', '$110,000,000', '$500,000,000', '$65,000,000', '$150,000,000,000', '$300,000,000', '$2,200,000', '$35,000,000', '$140,000,000', '$4,000,000', '$13,000,000', None, '$Undisclosed', '$2000000', '$800000', '$6000000', '$2500000', '$9500000', '$13000000', '$5000000', '$8000000', '$1000000', 'Upsparks', '$200000', '$12000000', '$1500000', '$1700000', '$5500000', '$400000', '$150000000', '$4000000', '$100000000', '$500000', '$15000000', '$10000000', '$40000000', '$225000000', '$6700000', '$1300000', '$20000000', '$250000', '$21000000', '$1200000', '$52000000', '$3800000', '$17500000', '$42000000', '$2300000', '$7000000', '$30000000', '$450000000', '$28000000', '$300000', '$3500000', '$8500000', '$25000000', '$3000000', '$37000000', '$370000000', '$700000', '$16000000', '$100000', '$44000000', '$770000', '$125000000', '$35000000', '$50000000', '$4900000', '$145000000', '$22000000', '$70000000', '$6600000', '$32000000', '$24000000', '$725000', '$461000', 'Series C', 'Seed', '$96000000', '$60000000', '$500000000', '$266000000', '$4500000', '$325000000', '$6500000', '$1600000', '$150000', '$225000', '$85000000', '$235000', '$260000', '$2900000', '$53000000', '$1100000', '$86000000', '$130000', '$$100,00', '$111000000', '$265000', '$76000000', '$100,000,000', '$75,000,000', '$3,800,000', '$12,000,000', '$1,600,000', '$260,000', '$1,000,000,000', '$18,000,000', '$20,000,000', '$350,000', '$95,000,000', '$4,100,000', '$5,200,000', '$8,000,000', '$1,400,000', '$2,600,000', '$900,000', '$250,000', '$16,000,000', '$7,000,000', '$11,000,000', '$280,000,000', '$50,000,000', '$14,300,000', '$81,000,000', '$1,300,000', '$8,200,000', '$70,000,000', '$720,000', '$600000', '$9000000', '$1800000', '$330000', '$undisclosed', '$200000000', '$36000000', '$67000000', '$10200000', '$220000000', '$108000000', '$75000000', '$450000', '$660000000', 'ah! Ventures', '$45000000', '$3200000', '$370000', 'Pre-series A', 'ITO Angel Network, LetsVenture', '$48000000', '$3600000', '$11000000', '$192000000', '$65000000', '$1400000', '$1900000', '$41000000', '$144000000', '$5200000', '$270000000', '$140000', '$250000000', '$320000', '$350000000', '$4800000', '$38000000', '$125000', '$26000000', '$64000000', '$620000', '$900000', 'JITO Angel Network, LetsVenture', '$2600000', '$1,250,000', '$400,000,000', '$1,700,000', '$27,000,000', '$234,000,000', '$460,000,000', '$13,500,000', '$5,100,000', '$195,000,000', '$125,000', '$45,000,000', '$200,000,000', '$7,300,000', '$6,300,000', '$12,500,000', '$24,000,000', '$140,000', '$16,500,000', '$340,000', '$43,000,000', '$150,000,000', '$3300000', '$92000000', '$17000000', '$135000000', '$$1,55,000', '$2100000', '$840000000', '$248000000', '$4300000', '$570000', '$2200000', '$4700000', '$300000000', '$260000000', '$140000000', '$175000000', '$19000000', '$810000', '$7500000', '$600000000', '$90000000', '$5700000', '$6750000', '$78000000', '$5400000', '$115000000', '$255000000', '$18000000', '$570000000', '$550000', '$2700000', '$4200000', '$31000000', '$540000', '$14000000', '$340000', '$', '$6200000', '$750000', '$6300000', '$23000000', '$55000000']\n"
     ]
    }
   ],
   "source": [
    "#checking for any unique values and inconsistencies in amount column\n",
    "print(df_2021.amount.unique().tolist())"
   ]
  },
  {
   "cell_type": "code",
   "execution_count": 16,
   "metadata": {},
   "outputs": [
    {
     "data": {
      "text/html": [
       "<div>\n",
       "<style scoped>\n",
       "    .dataframe tbody tr th:only-of-type {\n",
       "        vertical-align: middle;\n",
       "    }\n",
       "\n",
       "    .dataframe tbody tr th {\n",
       "        vertical-align: top;\n",
       "    }\n",
       "\n",
       "    .dataframe thead th {\n",
       "        text-align: right;\n",
       "    }\n",
       "</style>\n",
       "<table border=\"1\" class=\"dataframe\">\n",
       "  <thead>\n",
       "    <tr style=\"text-align: right;\">\n",
       "      <th></th>\n",
       "      <th>count</th>\n",
       "      <th>unique</th>\n",
       "      <th>top</th>\n",
       "      <th>freq</th>\n",
       "      <th>mean</th>\n",
       "      <th>std</th>\n",
       "      <th>min</th>\n",
       "      <th>25%</th>\n",
       "      <th>50%</th>\n",
       "      <th>75%</th>\n",
       "      <th>max</th>\n",
       "    </tr>\n",
       "  </thead>\n",
       "  <tbody>\n",
       "    <tr>\n",
       "      <th>company_brand</th>\n",
       "      <td>89</td>\n",
       "      <td>87</td>\n",
       "      <td>Kratikal</td>\n",
       "      <td>2</td>\n",
       "      <td>NaN</td>\n",
       "      <td>NaN</td>\n",
       "      <td>NaN</td>\n",
       "      <td>NaN</td>\n",
       "      <td>NaN</td>\n",
       "      <td>NaN</td>\n",
       "      <td>NaN</td>\n",
       "    </tr>\n",
       "    <tr>\n",
       "      <th>founded</th>\n",
       "      <td>60.0</td>\n",
       "      <td>NaN</td>\n",
       "      <td>NaN</td>\n",
       "      <td>NaN</td>\n",
       "      <td>2014.533333</td>\n",
       "      <td>2.937003</td>\n",
       "      <td>2004.0</td>\n",
       "      <td>2013.0</td>\n",
       "      <td>2015.0</td>\n",
       "      <td>2016.25</td>\n",
       "      <td>2019.0</td>\n",
       "    </tr>\n",
       "    <tr>\n",
       "      <th>headquarter</th>\n",
       "      <td>70</td>\n",
       "      <td>17</td>\n",
       "      <td>Bangalore</td>\n",
       "      <td>21</td>\n",
       "      <td>NaN</td>\n",
       "      <td>NaN</td>\n",
       "      <td>NaN</td>\n",
       "      <td>NaN</td>\n",
       "      <td>NaN</td>\n",
       "      <td>NaN</td>\n",
       "      <td>NaN</td>\n",
       "    </tr>\n",
       "    <tr>\n",
       "      <th>sector</th>\n",
       "      <td>84</td>\n",
       "      <td>52</td>\n",
       "      <td>Edtech</td>\n",
       "      <td>7</td>\n",
       "      <td>NaN</td>\n",
       "      <td>NaN</td>\n",
       "      <td>NaN</td>\n",
       "      <td>NaN</td>\n",
       "      <td>NaN</td>\n",
       "      <td>NaN</td>\n",
       "      <td>NaN</td>\n",
       "    </tr>\n",
       "    <tr>\n",
       "      <th>what_it_does</th>\n",
       "      <td>89</td>\n",
       "      <td>88</td>\n",
       "      <td>Online meat shop</td>\n",
       "      <td>2</td>\n",
       "      <td>NaN</td>\n",
       "      <td>NaN</td>\n",
       "      <td>NaN</td>\n",
       "      <td>NaN</td>\n",
       "      <td>NaN</td>\n",
       "      <td>NaN</td>\n",
       "      <td>NaN</td>\n",
       "    </tr>\n",
       "    <tr>\n",
       "      <th>founders</th>\n",
       "      <td>86</td>\n",
       "      <td>85</td>\n",
       "      <td>Vivek Gupta, Abhay Hanjura</td>\n",
       "      <td>2</td>\n",
       "      <td>NaN</td>\n",
       "      <td>NaN</td>\n",
       "      <td>NaN</td>\n",
       "      <td>NaN</td>\n",
       "      <td>NaN</td>\n",
       "      <td>NaN</td>\n",
       "      <td>NaN</td>\n",
       "    </tr>\n",
       "    <tr>\n",
       "      <th>investor</th>\n",
       "      <td>89</td>\n",
       "      <td>86</td>\n",
       "      <td>Undisclosed</td>\n",
       "      <td>3</td>\n",
       "      <td>NaN</td>\n",
       "      <td>NaN</td>\n",
       "      <td>NaN</td>\n",
       "      <td>NaN</td>\n",
       "      <td>NaN</td>\n",
       "      <td>NaN</td>\n",
       "      <td>NaN</td>\n",
       "    </tr>\n",
       "    <tr>\n",
       "      <th>amount</th>\n",
       "      <td>89</td>\n",
       "      <td>50</td>\n",
       "      <td>Undisclosed</td>\n",
       "      <td>12</td>\n",
       "      <td>NaN</td>\n",
       "      <td>NaN</td>\n",
       "      <td>NaN</td>\n",
       "      <td>NaN</td>\n",
       "      <td>NaN</td>\n",
       "      <td>NaN</td>\n",
       "      <td>NaN</td>\n",
       "    </tr>\n",
       "    <tr>\n",
       "      <th>stage</th>\n",
       "      <td>43</td>\n",
       "      <td>15</td>\n",
       "      <td>Series A</td>\n",
       "      <td>10</td>\n",
       "      <td>NaN</td>\n",
       "      <td>NaN</td>\n",
       "      <td>NaN</td>\n",
       "      <td>NaN</td>\n",
       "      <td>NaN</td>\n",
       "      <td>NaN</td>\n",
       "      <td>NaN</td>\n",
       "    </tr>\n",
       "  </tbody>\n",
       "</table>\n",
       "</div>"
      ],
      "text/plain": [
       "              count unique                         top freq         mean  \\\n",
       "company_brand    89     87                    Kratikal    2          NaN   \n",
       "founded        60.0    NaN                         NaN  NaN  2014.533333   \n",
       "headquarter      70     17                   Bangalore   21          NaN   \n",
       "sector           84     52                      Edtech    7          NaN   \n",
       "what_it_does     89     88            Online meat shop    2          NaN   \n",
       "founders         86     85  Vivek Gupta, Abhay Hanjura    2          NaN   \n",
       "investor         89     86                 Undisclosed    3          NaN   \n",
       "amount           89     50                 Undisclosed   12          NaN   \n",
       "stage            43     15                    Series A   10          NaN   \n",
       "\n",
       "                    std     min     25%     50%      75%     max  \n",
       "company_brand       NaN     NaN     NaN     NaN      NaN     NaN  \n",
       "founded        2.937003  2004.0  2013.0  2015.0  2016.25  2019.0  \n",
       "headquarter         NaN     NaN     NaN     NaN      NaN     NaN  \n",
       "sector              NaN     NaN     NaN     NaN      NaN     NaN  \n",
       "what_it_does        NaN     NaN     NaN     NaN      NaN     NaN  \n",
       "founders            NaN     NaN     NaN     NaN      NaN     NaN  \n",
       "investor            NaN     NaN     NaN     NaN      NaN     NaN  \n",
       "amount              NaN     NaN     NaN     NaN      NaN     NaN  \n",
       "stage               NaN     NaN     NaN     NaN      NaN     NaN  "
      ]
     },
     "execution_count": 16,
     "metadata": {},
     "output_type": "execute_result"
    }
   ],
   "source": [
    "df_2019.describe(include=\"all\").T"
   ]
  },
  {
   "cell_type": "code",
   "execution_count": 18,
   "metadata": {},
   "outputs": [
    {
     "data": {
      "text/html": [
       "<div>\n",
       "<style scoped>\n",
       "    .dataframe tbody tr th:only-of-type {\n",
       "        vertical-align: middle;\n",
       "    }\n",
       "\n",
       "    .dataframe tbody tr th {\n",
       "        vertical-align: top;\n",
       "    }\n",
       "\n",
       "    .dataframe thead th {\n",
       "        text-align: right;\n",
       "    }\n",
       "</style>\n",
       "<table border=\"1\" class=\"dataframe\">\n",
       "  <thead>\n",
       "    <tr style=\"text-align: right;\">\n",
       "      <th></th>\n",
       "      <th>company_name</th>\n",
       "      <th>industry</th>\n",
       "      <th>round/series</th>\n",
       "      <th>amount</th>\n",
       "      <th>location</th>\n",
       "      <th>about_company</th>\n",
       "    </tr>\n",
       "  </thead>\n",
       "  <tbody>\n",
       "    <tr>\n",
       "      <th>0</th>\n",
       "      <td>TheCollegeFever</td>\n",
       "      <td>Brand Marketing, Event Promotion, Marketing, S...</td>\n",
       "      <td>Seed</td>\n",
       "      <td>250000</td>\n",
       "      <td>Bangalore, Karnataka, India</td>\n",
       "      <td>TheCollegeFever is a hub for fun, fiesta and f...</td>\n",
       "    </tr>\n",
       "    <tr>\n",
       "      <th>1</th>\n",
       "      <td>Happy Cow Dairy</td>\n",
       "      <td>Agriculture, Farming</td>\n",
       "      <td>Seed</td>\n",
       "      <td>₹40,000,000</td>\n",
       "      <td>Mumbai, Maharashtra, India</td>\n",
       "      <td>A startup which aggregates milk from dairy far...</td>\n",
       "    </tr>\n",
       "    <tr>\n",
       "      <th>2</th>\n",
       "      <td>MyLoanCare</td>\n",
       "      <td>Credit, Financial Services, Lending, Marketplace</td>\n",
       "      <td>Series A</td>\n",
       "      <td>₹65,000,000</td>\n",
       "      <td>Gurgaon, Haryana, India</td>\n",
       "      <td>Leading Online Loans Marketplace in India</td>\n",
       "    </tr>\n",
       "    <tr>\n",
       "      <th>3</th>\n",
       "      <td>PayMe India</td>\n",
       "      <td>Financial Services, FinTech</td>\n",
       "      <td>Angel</td>\n",
       "      <td>2000000</td>\n",
       "      <td>Noida, Uttar Pradesh, India</td>\n",
       "      <td>PayMe India is an innovative FinTech organizat...</td>\n",
       "    </tr>\n",
       "    <tr>\n",
       "      <th>4</th>\n",
       "      <td>Eunimart</td>\n",
       "      <td>E-Commerce Platforms, Retail, SaaS</td>\n",
       "      <td>Seed</td>\n",
       "      <td>—</td>\n",
       "      <td>Hyderabad, Andhra Pradesh, India</td>\n",
       "      <td>Eunimart is a one stop solution for merchants ...</td>\n",
       "    </tr>\n",
       "  </tbody>\n",
       "</table>\n",
       "</div>"
      ],
      "text/plain": [
       "      company_name                                           industry  \\\n",
       "0  TheCollegeFever  Brand Marketing, Event Promotion, Marketing, S...   \n",
       "1  Happy Cow Dairy                               Agriculture, Farming   \n",
       "2       MyLoanCare   Credit, Financial Services, Lending, Marketplace   \n",
       "3      PayMe India                        Financial Services, FinTech   \n",
       "4         Eunimart                 E-Commerce Platforms, Retail, SaaS   \n",
       "\n",
       "  round/series       amount                          location  \\\n",
       "0         Seed       250000       Bangalore, Karnataka, India   \n",
       "1         Seed  ₹40,000,000        Mumbai, Maharashtra, India   \n",
       "2     Series A  ₹65,000,000           Gurgaon, Haryana, India   \n",
       "3        Angel      2000000       Noida, Uttar Pradesh, India   \n",
       "4         Seed            —  Hyderabad, Andhra Pradesh, India   \n",
       "\n",
       "                                       about_company  \n",
       "0  TheCollegeFever is a hub for fun, fiesta and f...  \n",
       "1  A startup which aggregates milk from dairy far...  \n",
       "2          Leading Online Loans Marketplace in India  \n",
       "3  PayMe India is an innovative FinTech organizat...  \n",
       "4  Eunimart is a one stop solution for merchants ...  "
      ]
     },
     "execution_count": 18,
     "metadata": {},
     "output_type": "execute_result"
    }
   ],
   "source": [
    "#reading third dataset from csv file into a pandas dataframe\n",
    "df_2018 = pd.read_csv(\"startup_funding2018.csv\")\n",
    "df_2018= df_2018.rename(columns=lambda x: x.lower().replace(' ', '_'))\n",
    "df_2018.head()"
   ]
  },
  {
   "cell_type": "code",
   "execution_count": 19,
   "metadata": {},
   "outputs": [
    {
     "name": "stdout",
     "output_type": "stream",
     "text": [
      "['250000', '₹40,000,000', '₹65,000,000', '2000000', '—', '1600000', '₹16,000,000', '₹50,000,000', '₹100,000,000', '150000', '1100000', '₹500,000', '6000000', '650000', '₹35,000,000', '₹64,000,000', '₹20,000,000', '1000000', '5000000', '4000000', '₹30,000,000', '2800000', '1700000', '1300000', '₹5,000,000', '₹12,500,000', '₹15,000,000', '500000', '₹104,000,000', '₹45,000,000', '13400000', '₹25,000,000', '₹26,400,000', '₹8,000,000', '₹60,000', '9000000', '100000', '20000', '120000', '₹34,000,000', '₹342,000,000', '$143,145', '₹600,000,000', '$742,000,000', '₹1,000,000,000', '₹2,000,000,000', '$3,980,000', '$10,000', '₹100,000', '₹250,000,000', '$1,000,000,000', '$7,000,000', '$35,000,000', '₹550,000,000', '$28,500,000', '$2,000,000', '₹240,000,000', '₹120,000,000', '$2,400,000', '$30,000,000', '₹2,500,000,000', '$23,000,000', '$150,000', '$11,000,000', '₹44,000,000', '$3,240,000', '₹60,000,000', '$540,000,000', '₹650,000,000', '₹1,600,000,000', '$900,000', '$10,000,000', '$1,500,000', '₹70,000,000', '$1,000,000', '$5,000,000', '$14,000,000', '₹102,500,000', '$100,000,000', '₹1,200,000', '₹5,200,000,000', '$800,000', '$1,041,000', '$100,000', '$15,000', '1400000', '1200000', '2200000', '1800000', '3600000', '₹9,500,000', '300000', '6830000', '200000', '₹150,000,000', '4300000', '364846', '400000', '1500000', '₹7,000,000', '₹1,400,000', '₹10,000,000', '₹22,500,000', '13200000', '50000', '₹140,200,000', '3000000', '1250000', '180000', '₹19,200,000', '₹103,000,000', '4200000', '175000', '1450000', '₹200,000', '4500000', '600000', '₹16,600,000', '₹12,000,000', '15000000', '₹33,000,000', '125000', '130000', '₹34,900,000', '₹72,000,000', '17200000', '₹32,000,000', '3500000', '₹135,000,000', '12000000', '$40,000,000', '$1,100,000', '$50,000,000', '₹1,540,000,000', '$3,000,000', '$6,000,000', '₹140,000,000', '$41,900,000', '₹1,410,000,000', '$3,530,000', '$200,000', '$3,300,000', '₹580,000,000', '₹36,000,000', '₹340,000,000', '$210,000,000', '$37,680,000', '$250,000', '$20,000', '₹510,000,000', '₹2,200,000,000', '22000000', '70000', '10000000', '₹15,392,000,000', '₹20,000,000,000', '₹4,000,000,000', '185000000', '65000000', '₹165,000,000', '700000', '30000000', '₹210,000,000', '210000000', '₹2,029,600,000', '75000000', '₹80,000,000', '1760000', '2700000', '₹280,000,000', '₹800,000,000', '750000', '2500000', '80000000', '25000000', '₹730,000,000', '₹400,000,000', '3700000', '5600000', '₹260,000,000', '99230000', '70000000', '40000', '550000', '50000000', '365000000', '₹8,750,000', '₹78,000,000', '28000000', '₹264,000,000', '100000000', '₹1,130,000,000', '₹810,000,000', '₹1,400,000,000', '14900000', '225000000', '7500', '35000000']\n"
     ]
    }
   ],
   "source": [
    "#checking for any unique values and inconsistencies in amount column\n",
    "print(df_2018.amount.unique().tolist())"
   ]
  },
  {
   "cell_type": "code",
   "execution_count": 20,
   "metadata": {},
   "outputs": [],
   "source": [
    "df_2018 = df_2018.rename(columns={\"company_name\":\"company_brand\", \n",
    "                                   \"industry\":\"sector\",\n",
    "                                   \"round/series\":\"stage\",\n",
    "                                   \"location\":\"headquarter\",\n",
    "                                   \"about_company\":\"what_it_does\"})"
   ]
  },
  {
   "cell_type": "code",
   "execution_count": 21,
   "metadata": {},
   "outputs": [
    {
     "name": "stdout",
     "output_type": "stream",
     "text": [
      "<class 'pandas.core.frame.DataFrame'>\n",
      "RangeIndex: 526 entries, 0 to 525\n",
      "Data columns (total 6 columns):\n",
      " #   Column         Non-Null Count  Dtype \n",
      "---  ------         --------------  ----- \n",
      " 0   company_brand  526 non-null    object\n",
      " 1   sector         526 non-null    object\n",
      " 2   stage          526 non-null    object\n",
      " 3   amount         526 non-null    object\n",
      " 4   headquarter    526 non-null    object\n",
      " 5   what_it_does   526 non-null    object\n",
      "dtypes: object(6)\n",
      "memory usage: 24.8+ KB\n"
     ]
    }
   ],
   "source": [
    "df_2018.info()"
   ]
  },
  {
   "cell_type": "code",
   "execution_count": 22,
   "metadata": {},
   "outputs": [
    {
     "data": {
      "text/html": [
       "<div>\n",
       "<style scoped>\n",
       "    .dataframe tbody tr th:only-of-type {\n",
       "        vertical-align: middle;\n",
       "    }\n",
       "\n",
       "    .dataframe tbody tr th {\n",
       "        vertical-align: top;\n",
       "    }\n",
       "\n",
       "    .dataframe thead th {\n",
       "        text-align: right;\n",
       "    }\n",
       "</style>\n",
       "<table border=\"1\" class=\"dataframe\">\n",
       "  <thead>\n",
       "    <tr style=\"text-align: right;\">\n",
       "      <th></th>\n",
       "      <th>count</th>\n",
       "      <th>unique</th>\n",
       "      <th>top</th>\n",
       "      <th>freq</th>\n",
       "    </tr>\n",
       "  </thead>\n",
       "  <tbody>\n",
       "    <tr>\n",
       "      <th>company_brand</th>\n",
       "      <td>526</td>\n",
       "      <td>525</td>\n",
       "      <td>TheCollegeFever</td>\n",
       "      <td>2</td>\n",
       "    </tr>\n",
       "    <tr>\n",
       "      <th>sector</th>\n",
       "      <td>526</td>\n",
       "      <td>405</td>\n",
       "      <td>—</td>\n",
       "      <td>30</td>\n",
       "    </tr>\n",
       "    <tr>\n",
       "      <th>stage</th>\n",
       "      <td>526</td>\n",
       "      <td>21</td>\n",
       "      <td>Seed</td>\n",
       "      <td>280</td>\n",
       "    </tr>\n",
       "    <tr>\n",
       "      <th>amount</th>\n",
       "      <td>526</td>\n",
       "      <td>198</td>\n",
       "      <td>—</td>\n",
       "      <td>148</td>\n",
       "    </tr>\n",
       "    <tr>\n",
       "      <th>headquarter</th>\n",
       "      <td>526</td>\n",
       "      <td>50</td>\n",
       "      <td>Bangalore, Karnataka, India</td>\n",
       "      <td>102</td>\n",
       "    </tr>\n",
       "    <tr>\n",
       "      <th>what_it_does</th>\n",
       "      <td>526</td>\n",
       "      <td>524</td>\n",
       "      <td>TheCollegeFever is a hub for fun, fiesta and f...</td>\n",
       "      <td>2</td>\n",
       "    </tr>\n",
       "  </tbody>\n",
       "</table>\n",
       "</div>"
      ],
      "text/plain": [
       "              count unique                                                top  \\\n",
       "company_brand   526    525                                    TheCollegeFever   \n",
       "sector          526    405                                                  —   \n",
       "stage           526     21                                               Seed   \n",
       "amount          526    198                                                  —   \n",
       "headquarter     526     50                        Bangalore, Karnataka, India   \n",
       "what_it_does    526    524  TheCollegeFever is a hub for fun, fiesta and f...   \n",
       "\n",
       "              freq  \n",
       "company_brand    2  \n",
       "sector          30  \n",
       "stage          280  \n",
       "amount         148  \n",
       "headquarter    102  \n",
       "what_it_does     2  "
      ]
     },
     "execution_count": 22,
     "metadata": {},
     "output_type": "execute_result"
    }
   ],
   "source": [
    "df_2018.describe().T"
   ]
  },
  {
   "cell_type": "code",
   "execution_count": 23,
   "metadata": {},
   "outputs": [],
   "source": [
    "#concatenating three datasets into a single dataframe\n",
    "df = pd.concat([df_2018, df_2019,df_2020,df_2021],ignore_index=True)\n",
    "df.head()\n",
    "#saving the df file to a csv file for further cleaning and preparation\n",
    "df.to_csv(\"startup_2018_19_20_21.csv\")"
   ]
  },
  {
   "cell_type": "code",
   "execution_count": 24,
   "metadata": {},
   "outputs": [
    {
     "data": {
      "text/plain": [
       "(526, 6)"
      ]
     },
     "execution_count": 24,
     "metadata": {},
     "output_type": "execute_result"
    }
   ],
   "source": [
    "#checking the 2018 array\n",
    "df_2018.shape"
   ]
  },
  {
   "cell_type": "code",
   "execution_count": 25,
   "metadata": {},
   "outputs": [
    {
     "data": {
      "text/plain": [
       "(89, 9)"
      ]
     },
     "execution_count": 25,
     "metadata": {},
     "output_type": "execute_result"
    }
   ],
   "source": [
    "#checking shape of 2019 dataframe\n",
    "df_2019.shape"
   ]
  },
  {
   "cell_type": "code",
   "execution_count": 26,
   "metadata": {},
   "outputs": [
    {
     "data": {
      "text/plain": [
       "(1055, 10)"
      ]
     },
     "execution_count": 26,
     "metadata": {},
     "output_type": "execute_result"
    }
   ],
   "source": [
    "#checking shape of 2020 dataframe\n",
    "df_2020.shape"
   ]
  },
  {
   "cell_type": "code",
   "execution_count": 27,
   "metadata": {},
   "outputs": [
    {
     "data": {
      "text/plain": [
       "(1209, 9)"
      ]
     },
     "execution_count": 27,
     "metadata": {},
     "output_type": "execute_result"
    }
   ],
   "source": [
    "#checking shape of 2021 dataframe\n",
    "df_2021.shape"
   ]
  },
  {
   "cell_type": "markdown",
   "metadata": {},
   "source": [
    "### Asumptions\n",
    "- All amounts will be converted to USD in the Data Cleaning and EDA\n",
    " - 2018 amount column will assume the currency of USD\n",
    "- Rename of df_2018 columns based on similarities in wording and comparison with other years\n",
    "\n",
    " ### Observations\n",
    "- Column 10 has no real signinficant data and will be dropped in data cleaning\n",
    "- Some rows have wrong information pertaining to the columns and will have to be discussed further\n",
    "- Nulls in the dataset will also have to be discussed and dealt with\n",
    "\n"
   ]
  },
  {
   "cell_type": "markdown",
   "metadata": {},
   "source": [
    "## Hypothesis testing\n"
   ]
  },
  {
   "cell_type": "markdown",
   "metadata": {},
   "source": [
    "Null hypothesis: The sector of a start up does not have an impact on the amount of funding.\n",
    "\n",
    "Alternative hypothesis testing: The sector of a start up does have an impact on the amount of funding.\n"
   ]
  },
  {
   "cell_type": "markdown",
   "metadata": {},
   "source": [
    "# Analytical questions\n",
    "\n",
    "- Which sector has received the most funding over the time frame?\n",
    "\n",
    "- The distribution of start ups in stages and the amount allocated each\n",
    "\n",
    "- In which 3 locations have start ups had the most funding?\n",
    "\n",
    "- Which year had the most investors?\n",
    "\n",
    "- Who are the top 10 investor in the Indian start ups?\n",
    "\n",
    "- What was the impact of Covid-19 pandemic on start-up funding in 2020 as compare to the other years?\n",
    "\n",
    "- How is funding related to metropolitan cities and small towns? (For recommendation on government policies)\n",
    "\n",
    "\n"
   ]
  }
 ],
 "metadata": {
  "kernelspec": {
   "display_name": "base",
   "language": "python",
   "name": "python3"
  },
  "language_info": {
   "codemirror_mode": {
    "name": "ipython",
    "version": 3
   },
   "file_extension": ".py",
   "mimetype": "text/x-python",
   "name": "python",
   "nbconvert_exporter": "python",
   "pygments_lexer": "ipython3",
   "version": "3.12.2"
  }
 },
 "nbformat": 4,
 "nbformat_minor": 2
}
